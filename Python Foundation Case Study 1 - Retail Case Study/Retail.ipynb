{
 "cells": [
  {
   "cell_type": "code",
   "execution_count": 1,
   "id": "5642735b",
   "metadata": {},
   "outputs": [],
   "source": [
    "import pandas as pd\n",
    "import numpy as np\n",
    "import matplotlib.pyplot as plt\n"
   ]
  },
  {
   "cell_type": "code",
   "execution_count": 2,
   "id": "30b475dd",
   "metadata": {},
   "outputs": [],
   "source": [
    "customer = pd.read_csv(r'Documents\\sowmiya\\Python\\Python Foundation Case Study 1 - Retail Case Study\\Customer.csv')"
   ]
  },
  {
   "cell_type": "code",
   "execution_count": 3,
   "id": "68a48aae",
   "metadata": {},
   "outputs": [],
   "source": [
    "customer=customer.rename(columns={'customer_Id':'cust_id'})"
   ]
  },
  {
   "cell_type": "code",
   "execution_count": 4,
   "id": "49c0247d",
   "metadata": {},
   "outputs": [],
   "source": [
    "transactions=pd.read_csv(r'Documents\\sowmiya\\Python\\Python Foundation Case Study 1 - Retail Case Study\\Transactions.csv')"
   ]
  },
  {
   "cell_type": "code",
   "execution_count": 5,
   "id": "fdf385ce",
   "metadata": {},
   "outputs": [],
   "source": [
    "prod_cat=pd.read_csv(r'Documents\\sowmiya\\Python\\Python Foundation Case Study 1 - Retail Case Study\\prod_cat_info.csv')"
   ]
  },
  {
   "cell_type": "code",
   "execution_count": 43,
   "id": "94976376",
   "metadata": {},
   "outputs": [],
   "source": [
    "prod_cat=prod_cat.rename(columns={'prod_sub_cat_code':'prod_subcat_code'})\n"
   ]
  },
  {
   "cell_type": "code",
   "execution_count": 7,
   "id": "820d4929",
   "metadata": {},
   "outputs": [],
   "source": [
    "trans_cust=transactions.merge(customer,on='cust_id',how='left')"
   ]
  },
  {
   "cell_type": "code",
   "execution_count": 136,
   "id": "0e4e4dda",
   "metadata": {},
   "outputs": [
    {
     "data": {
      "text/html": [
       "<div>\n",
       "<style scoped>\n",
       "    .dataframe tbody tr th:only-of-type {\n",
       "        vertical-align: middle;\n",
       "    }\n",
       "\n",
       "    .dataframe tbody tr th {\n",
       "        vertical-align: top;\n",
       "    }\n",
       "\n",
       "    .dataframe thead th {\n",
       "        text-align: right;\n",
       "    }\n",
       "</style>\n",
       "<table border=\"1\" class=\"dataframe\">\n",
       "  <thead>\n",
       "    <tr style=\"text-align: right;\">\n",
       "      <th></th>\n",
       "      <th>transaction_id</th>\n",
       "      <th>cust_id</th>\n",
       "      <th>tran_date</th>\n",
       "      <th>prod_subcat_code</th>\n",
       "      <th>prod_cat_code</th>\n",
       "      <th>Qty</th>\n",
       "      <th>Rate</th>\n",
       "      <th>Tax</th>\n",
       "      <th>total_amt</th>\n",
       "      <th>Store_type</th>\n",
       "      <th>DOB</th>\n",
       "      <th>Gender</th>\n",
       "      <th>city_code</th>\n",
       "      <th>prod_cat</th>\n",
       "      <th>prod_subcat</th>\n",
       "    </tr>\n",
       "  </thead>\n",
       "  <tbody>\n",
       "    <tr>\n",
       "      <th>0</th>\n",
       "      <td>80712190438</td>\n",
       "      <td>270351</td>\n",
       "      <td>28-02-2014</td>\n",
       "      <td>1</td>\n",
       "      <td>1</td>\n",
       "      <td>-5</td>\n",
       "      <td>-772</td>\n",
       "      <td>405.300</td>\n",
       "      <td>-4265.300</td>\n",
       "      <td>e-Shop</td>\n",
       "      <td>26-09-1981</td>\n",
       "      <td>M</td>\n",
       "      <td>5.0</td>\n",
       "      <td>Clothing</td>\n",
       "      <td>Women</td>\n",
       "    </tr>\n",
       "    <tr>\n",
       "      <th>1</th>\n",
       "      <td>80712190438</td>\n",
       "      <td>270351</td>\n",
       "      <td>20-02-2014</td>\n",
       "      <td>1</td>\n",
       "      <td>1</td>\n",
       "      <td>5</td>\n",
       "      <td>772</td>\n",
       "      <td>405.300</td>\n",
       "      <td>4265.300</td>\n",
       "      <td>e-Shop</td>\n",
       "      <td>26-09-1981</td>\n",
       "      <td>M</td>\n",
       "      <td>5.0</td>\n",
       "      <td>Clothing</td>\n",
       "      <td>Women</td>\n",
       "    </tr>\n",
       "    <tr>\n",
       "      <th>2</th>\n",
       "      <td>73713102191</td>\n",
       "      <td>268867</td>\n",
       "      <td>15-02-2014</td>\n",
       "      <td>1</td>\n",
       "      <td>1</td>\n",
       "      <td>1</td>\n",
       "      <td>714</td>\n",
       "      <td>74.970</td>\n",
       "      <td>788.970</td>\n",
       "      <td>MBR</td>\n",
       "      <td>24-10-1987</td>\n",
       "      <td>F</td>\n",
       "      <td>4.0</td>\n",
       "      <td>Clothing</td>\n",
       "      <td>Women</td>\n",
       "    </tr>\n",
       "    <tr>\n",
       "      <th>3</th>\n",
       "      <td>57134739558</td>\n",
       "      <td>270625</td>\n",
       "      <td>14-02-2014</td>\n",
       "      <td>1</td>\n",
       "      <td>1</td>\n",
       "      <td>5</td>\n",
       "      <td>595</td>\n",
       "      <td>312.375</td>\n",
       "      <td>3287.375</td>\n",
       "      <td>TeleShop</td>\n",
       "      <td>03-02-1992</td>\n",
       "      <td>M</td>\n",
       "      <td>6.0</td>\n",
       "      <td>Clothing</td>\n",
       "      <td>Women</td>\n",
       "    </tr>\n",
       "    <tr>\n",
       "      <th>4</th>\n",
       "      <td>79536458466</td>\n",
       "      <td>271944</td>\n",
       "      <td>12/2/2014</td>\n",
       "      <td>1</td>\n",
       "      <td>1</td>\n",
       "      <td>2</td>\n",
       "      <td>996</td>\n",
       "      <td>209.160</td>\n",
       "      <td>2201.160</td>\n",
       "      <td>e-Shop</td>\n",
       "      <td>11-12-1971</td>\n",
       "      <td>F</td>\n",
       "      <td>5.0</td>\n",
       "      <td>Clothing</td>\n",
       "      <td>Women</td>\n",
       "    </tr>\n",
       "    <tr>\n",
       "      <th>...</th>\n",
       "      <td>...</td>\n",
       "      <td>...</td>\n",
       "      <td>...</td>\n",
       "      <td>...</td>\n",
       "      <td>...</td>\n",
       "      <td>...</td>\n",
       "      <td>...</td>\n",
       "      <td>...</td>\n",
       "      <td>...</td>\n",
       "      <td>...</td>\n",
       "      <td>...</td>\n",
       "      <td>...</td>\n",
       "      <td>...</td>\n",
       "      <td>...</td>\n",
       "      <td>...</td>\n",
       "    </tr>\n",
       "    <tr>\n",
       "      <th>23048</th>\n",
       "      <td>31795262740</td>\n",
       "      <td>275166</td>\n",
       "      <td>1/2/2011</td>\n",
       "      <td>1</td>\n",
       "      <td>4</td>\n",
       "      <td>4</td>\n",
       "      <td>531</td>\n",
       "      <td>223.020</td>\n",
       "      <td>2347.020</td>\n",
       "      <td>e-Shop</td>\n",
       "      <td>05-11-1970</td>\n",
       "      <td>M</td>\n",
       "      <td>10.0</td>\n",
       "      <td>Bags</td>\n",
       "      <td>Mens</td>\n",
       "    </tr>\n",
       "    <tr>\n",
       "      <th>23049</th>\n",
       "      <td>85848725285</td>\n",
       "      <td>271131</td>\n",
       "      <td>1/2/2011</td>\n",
       "      <td>1</td>\n",
       "      <td>4</td>\n",
       "      <td>5</td>\n",
       "      <td>1043</td>\n",
       "      <td>547.575</td>\n",
       "      <td>5762.575</td>\n",
       "      <td>e-Shop</td>\n",
       "      <td>02-07-1976</td>\n",
       "      <td>F</td>\n",
       "      <td>9.0</td>\n",
       "      <td>Bags</td>\n",
       "      <td>Mens</td>\n",
       "    </tr>\n",
       "    <tr>\n",
       "      <th>23050</th>\n",
       "      <td>12933894691</td>\n",
       "      <td>272706</td>\n",
       "      <td>31-01-2011</td>\n",
       "      <td>1</td>\n",
       "      <td>4</td>\n",
       "      <td>5</td>\n",
       "      <td>361</td>\n",
       "      <td>189.525</td>\n",
       "      <td>1994.525</td>\n",
       "      <td>MBR</td>\n",
       "      <td>09-03-1974</td>\n",
       "      <td>M</td>\n",
       "      <td>8.0</td>\n",
       "      <td>Bags</td>\n",
       "      <td>Mens</td>\n",
       "    </tr>\n",
       "    <tr>\n",
       "      <th>23051</th>\n",
       "      <td>6442732971</td>\n",
       "      <td>273698</td>\n",
       "      <td>30-01-2011</td>\n",
       "      <td>1</td>\n",
       "      <td>4</td>\n",
       "      <td>1</td>\n",
       "      <td>1470</td>\n",
       "      <td>154.350</td>\n",
       "      <td>1624.350</td>\n",
       "      <td>e-Shop</td>\n",
       "      <td>06-06-1974</td>\n",
       "      <td>F</td>\n",
       "      <td>1.0</td>\n",
       "      <td>Bags</td>\n",
       "      <td>Mens</td>\n",
       "    </tr>\n",
       "    <tr>\n",
       "      <th>23052</th>\n",
       "      <td>32904823908</td>\n",
       "      <td>269539</td>\n",
       "      <td>26-01-2011</td>\n",
       "      <td>1</td>\n",
       "      <td>4</td>\n",
       "      <td>4</td>\n",
       "      <td>455</td>\n",
       "      <td>191.100</td>\n",
       "      <td>2011.100</td>\n",
       "      <td>MBR</td>\n",
       "      <td>20-03-1992</td>\n",
       "      <td>F</td>\n",
       "      <td>7.0</td>\n",
       "      <td>Bags</td>\n",
       "      <td>Mens</td>\n",
       "    </tr>\n",
       "  </tbody>\n",
       "</table>\n",
       "<p>23053 rows × 15 columns</p>\n",
       "</div>"
      ],
      "text/plain": [
       "       transaction_id  cust_id   tran_date  prod_subcat_code  prod_cat_code  \\\n",
       "0         80712190438   270351  28-02-2014                 1              1   \n",
       "1         80712190438   270351  20-02-2014                 1              1   \n",
       "2         73713102191   268867  15-02-2014                 1              1   \n",
       "3         57134739558   270625  14-02-2014                 1              1   \n",
       "4         79536458466   271944   12/2/2014                 1              1   \n",
       "...               ...      ...         ...               ...            ...   \n",
       "23048     31795262740   275166    1/2/2011                 1              4   \n",
       "23049     85848725285   271131    1/2/2011                 1              4   \n",
       "23050     12933894691   272706  31-01-2011                 1              4   \n",
       "23051      6442732971   273698  30-01-2011                 1              4   \n",
       "23052     32904823908   269539  26-01-2011                 1              4   \n",
       "\n",
       "       Qty  Rate      Tax  total_amt Store_type         DOB Gender  city_code  \\\n",
       "0       -5  -772  405.300  -4265.300     e-Shop  26-09-1981      M        5.0   \n",
       "1        5   772  405.300   4265.300     e-Shop  26-09-1981      M        5.0   \n",
       "2        1   714   74.970    788.970        MBR  24-10-1987      F        4.0   \n",
       "3        5   595  312.375   3287.375   TeleShop  03-02-1992      M        6.0   \n",
       "4        2   996  209.160   2201.160     e-Shop  11-12-1971      F        5.0   \n",
       "...    ...   ...      ...        ...        ...         ...    ...        ...   \n",
       "23048    4   531  223.020   2347.020     e-Shop  05-11-1970      M       10.0   \n",
       "23049    5  1043  547.575   5762.575     e-Shop  02-07-1976      F        9.0   \n",
       "23050    5   361  189.525   1994.525        MBR  09-03-1974      M        8.0   \n",
       "23051    1  1470  154.350   1624.350     e-Shop  06-06-1974      F        1.0   \n",
       "23052    4   455  191.100   2011.100        MBR  20-03-1992      F        7.0   \n",
       "\n",
       "       prod_cat prod_subcat  \n",
       "0      Clothing       Women  \n",
       "1      Clothing       Women  \n",
       "2      Clothing       Women  \n",
       "3      Clothing       Women  \n",
       "4      Clothing       Women  \n",
       "...         ...         ...  \n",
       "23048      Bags        Mens  \n",
       "23049      Bags        Mens  \n",
       "23050      Bags        Mens  \n",
       "23051      Bags        Mens  \n",
       "23052      Bags        Mens  \n",
       "\n",
       "[23053 rows x 15 columns]"
      ]
     },
     "execution_count": 136,
     "metadata": {},
     "output_type": "execute_result"
    }
   ],
   "source": [
    "Customer_Final=trans_cust.merge(prod_cat,on=['prod_cat_code','prod_subcat_code'])\n",
    "Customer_Final"
   ]
  },
  {
   "cell_type": "markdown",
   "id": "e65a121d",
   "metadata": {},
   "source": [
    "# Get the column names and their corresponding data types"
   ]
  },
  {
   "cell_type": "code",
   "execution_count": 9,
   "id": "d860ce1e",
   "metadata": {},
   "outputs": [
    {
     "data": {
      "text/plain": [
       "transaction_id        int64\n",
       "cust_id               int64\n",
       "tran_date            object\n",
       "prod_subcat_code      int64\n",
       "prod_cat_code         int64\n",
       "Qty                   int64\n",
       "Rate                  int64\n",
       "Tax                 float64\n",
       "total_amt           float64\n",
       "Store_type           object\n",
       "DOB                  object\n",
       "Gender               object\n",
       "city_code           float64\n",
       "prod_cat             object\n",
       "prod_subcat          object\n",
       "dtype: object"
      ]
     },
     "execution_count": 9,
     "metadata": {},
     "output_type": "execute_result"
    }
   ],
   "source": [
    "Customer_Final.dtypes"
   ]
  },
  {
   "cell_type": "markdown",
   "id": "f61187bf",
   "metadata": {},
   "source": [
    "# Top/Bottom 10 observation"
   ]
  },
  {
   "cell_type": "code",
   "execution_count": 21,
   "id": "09823632",
   "metadata": {},
   "outputs": [],
   "source": [
    "Customer_Final.head(10)\n",
    "Customer_Final.tail(10)"
   ]
  },
  {
   "cell_type": "markdown",
   "id": "66627b8b",
   "metadata": {},
   "source": [
    "# “Five-number summary” for continuous variables (min, Q1, median, Q3 and max)"
   ]
  },
  {
   "cell_type": "code",
   "execution_count": 35,
   "id": "21a3868a",
   "metadata": {},
   "outputs": [
    {
     "data": {
      "text/html": [
       "<div>\n",
       "<style scoped>\n",
       "    .dataframe tbody tr th:only-of-type {\n",
       "        vertical-align: middle;\n",
       "    }\n",
       "\n",
       "    .dataframe tbody tr th {\n",
       "        vertical-align: top;\n",
       "    }\n",
       "\n",
       "    .dataframe thead th {\n",
       "        text-align: right;\n",
       "    }\n",
       "</style>\n",
       "<table border=\"1\" class=\"dataframe\">\n",
       "  <thead>\n",
       "    <tr style=\"text-align: right;\">\n",
       "      <th></th>\n",
       "      <th>Tax</th>\n",
       "      <th>total_amt</th>\n",
       "      <th>Rate</th>\n",
       "    </tr>\n",
       "  </thead>\n",
       "  <tbody>\n",
       "    <tr>\n",
       "      <th>min</th>\n",
       "      <td>7.350</td>\n",
       "      <td>-8270.925</td>\n",
       "      <td>-1499.0</td>\n",
       "    </tr>\n",
       "    <tr>\n",
       "      <th>max</th>\n",
       "      <td>787.500</td>\n",
       "      <td>8287.500</td>\n",
       "      <td>1500.0</td>\n",
       "    </tr>\n",
       "    <tr>\n",
       "      <th>25%</th>\n",
       "      <td>98.280</td>\n",
       "      <td>762.450</td>\n",
       "      <td>312.0</td>\n",
       "    </tr>\n",
       "    <tr>\n",
       "      <th>50%</th>\n",
       "      <td>199.080</td>\n",
       "      <td>1754.740</td>\n",
       "      <td>710.0</td>\n",
       "    </tr>\n",
       "    <tr>\n",
       "      <th>75%</th>\n",
       "      <td>365.715</td>\n",
       "      <td>3569.150</td>\n",
       "      <td>1109.0</td>\n",
       "    </tr>\n",
       "  </tbody>\n",
       "</table>\n",
       "</div>"
      ],
      "text/plain": [
       "         Tax  total_amt    Rate\n",
       "min    7.350  -8270.925 -1499.0\n",
       "max  787.500   8287.500  1500.0\n",
       "25%   98.280    762.450   312.0\n",
       "50%  199.080   1754.740   710.0\n",
       "75%  365.715   3569.150  1109.0"
      ]
     },
     "execution_count": 35,
     "metadata": {},
     "output_type": "execute_result"
    }
   ],
   "source": [
    "#city_code is in float but not continous , we cannot say city_code in float \n",
    "#meanwhile Rate is in int , but it can be converted to float and consider as continous \n",
    "Customer_Final['Rate']=Customer_Final.Rate.astype(np.float64)\n",
    "Customer_Final.describe().loc[['min','max','25%','50%','75%'],['Tax','total_amt','Rate']]\n"
   ]
  },
  {
   "cell_type": "code",
   "execution_count": 153,
   "id": "9237f154",
   "metadata": {},
   "outputs": [],
   "source": [
    "#Changing the  dob to datetime formate\n",
    "Customer_Final['DOB']=pd.to_datetime(Customer_Final.DOB,format='%d-%m-%Y')\n",
    "#Changing the  tran_date to datetime formate\n",
    "Customer_Final['tran_date']=pd.to_datetime(Customer_Final.tran_date,format='%d-%m-%Y',errors=\"coerce\").fillna(pd.to_datetime(Customer_Final.tran_date,format='%d/%m/%Y',errors=\"coerce\"))\n",
    "#coerce failure will be NaN,using filna we are using other formate"
   ]
  },
  {
   "cell_type": "code",
   "execution_count": 154,
   "id": "9a4163ee",
   "metadata": {},
   "outputs": [
    {
     "data": {
      "text/plain": [
       "transaction_id               int64\n",
       "cust_id                      int64\n",
       "tran_date           datetime64[ns]\n",
       "prod_subcat_code             int64\n",
       "prod_cat_code                int64\n",
       "Qty                          int64\n",
       "Rate                         int64\n",
       "Tax                        float64\n",
       "total_amt                  float64\n",
       "Store_type                  object\n",
       "DOB                 datetime64[ns]\n",
       "Gender                      object\n",
       "city_code                  float64\n",
       "prod_cat                    object\n",
       "prod_subcat                 object\n",
       "is_negative                  int32\n",
       "dtype: object"
      ]
     },
     "execution_count": 154,
     "metadata": {},
     "output_type": "execute_result"
    }
   ],
   "source": [
    "#date type after convertion\n",
    "Customer_Final.dtypes"
   ]
  },
  {
   "cell_type": "markdown",
   "id": "8b9588d3",
   "metadata": {},
   "source": [
    "# d. Frequency tables for all the categorical variable"
   ]
  },
  {
   "cell_type": "code",
   "execution_count": 72,
   "id": "c61633d1",
   "metadata": {},
   "outputs": [],
   "source": [
    "Categorical_var=Customer_Final.select_dtypes(include='object')\n",
    "\n",
    "for i in Categorical_var:\n",
    "    table =pd.crosstab(categorical_var[i],'no of products')\n",
    "    print(table)\n"
   ]
  },
  {
   "cell_type": "markdown",
   "id": "5b83d491",
   "metadata": {},
   "source": [
    "# frequency bars for categorical variables"
   ]
  },
  {
   "cell_type": "code",
   "execution_count": 77,
   "id": "1b80a41d",
   "metadata": {},
   "outputs": [
    {
     "data": {
      "image/png": "[encoded data removed]",
      "text/plain": [
       "<Figure size 640x480 with 1 Axes>"
      ]
     },
     "metadata": {},
     "output_type": "display_data"
    },
    {
     "data": {
      "image/png": "[encoded data removed]",
      "text/plain": [
       "<Figure size 640x480 with 1 Axes>"
      ]
     },
     "metadata": {},
     "output_type": "display_data"
    },
    {
     "data": {
      "image/png": "[encoded data removed]",
      "text/plain": [
       "<Figure size 640x480 with 1 Axes>"
      ]
     },
     "metadata": {},
     "output_type": "display_data"
    },
    {
     "data": {
      "image/png": "[encoded data removed]",
      "text/plain": [
       "<Figure size 640x480 with 1 Axes>"
      ]
     },
     "metadata": {},
     "output_type": "display_data"
    }
   ],
   "source": [
    "for i in Categorical_var:\n",
    "    Categorical_var[i].value_counts().plot(kind='bar')\n",
    "    plt.show()\n",
    "    "
   ]
  },
  {
   "cell_type": "markdown",
   "id": "04392ed3",
   "metadata": {},
   "source": [
    "# Generate histograms for all continuous variables "
   ]
  },
  {
   "cell_type": "code",
   "execution_count": 41,
   "id": "9d71c8ae",
   "metadata": {},
   "outputs": [
    {
     "name": "stdout",
     "output_type": "stream",
     "text": [
      "Tax\n"
     ]
    },
    {
     "data": {
      "image/png": "[encoded data removed]",
      "text/plain": [
       "<Figure size 640x480 with 1 Axes>"
      ]
     },
     "metadata": {},
     "output_type": "display_data"
    },
    {
     "name": "stdout",
     "output_type": "stream",
     "text": [
      "Rate\n"
     ]
    },
    {
     "data": {
      "image/png": "[encoded data removed]",
      "text/plain": [
       "<Figure size 640x480 with 1 Axes>"
      ]
     },
     "metadata": {},
     "output_type": "display_data"
    },
    {
     "name": "stdout",
     "output_type": "stream",
     "text": [
      "total_amt\n"
     ]
    },
    {
     "data": {
      "image/png": "[encoded data removed]",
      "text/plain": [
       "<Figure size 640x480 with 1 Axes>"
      ]
     },
     "metadata": {},
     "output_type": "display_data"
    }
   ],
   "source": [
    "\n",
    "Contionus_var = ['Tax','Rate','total_amt']\n",
    "for i in Contionus_var:\n",
    "    print(i)\n",
    "    Customer_Final[i].plot(kind='hist',bins=50)\n",
    "    plt.show()\n",
    "    "
   ]
  },
  {
   "cell_type": "markdown",
   "id": "3c78b6d6",
   "metadata": {},
   "source": [
    "# Calculate the following information using the merged dataset :\n",
    "a. Time period of the available transaction data"
   ]
  },
  {
   "cell_type": "code",
   "execution_count": 86,
   "id": "512e6ab4",
   "metadata": {},
   "outputs": [
    {
     "name": "stdout",
     "output_type": "stream",
     "text": [
      "1130 days 00:00:00\n",
      "time period of transaction date is between\n",
      "2011-01-25 00:00:00 2014-02-28 00:00:00\n"
     ]
    }
   ],
   "source": [
    "Time_period=Customer_Final.tran_date.max() - Customer_Final.tran_date.min()\n",
    "print(Time_period)\n",
    "print(\"time period of transaction date is between\")\n",
    "print(Customer_Final.tran_date.min(),Customer_Final.tran_date.max())\n"
   ]
  },
  {
   "cell_type": "markdown",
   "id": "ba6ed064",
   "metadata": {},
   "source": [
    "# Count of transactions where the total amount of transaction was negative"
   ]
  },
  {
   "cell_type": "code",
   "execution_count": 13,
   "id": "565711dc",
   "metadata": {},
   "outputs": [
    {
     "data": {
      "text/plain": [
       "2177"
      ]
     },
     "execution_count": 13,
     "metadata": {},
     "output_type": "execute_result"
    }
   ],
   "source": [
    "len(Customer_Final.index[Customer_Final.total_amt < 0])"
   ]
  },
  {
   "cell_type": "markdown",
   "id": "311c3c8d",
   "metadata": {},
   "source": [
    "# Analyze which product categories are more popular among females vs male customers.\n"
   ]
  },
  {
   "cell_type": "code",
   "execution_count": 14,
   "id": "29eded74",
   "metadata": {},
   "outputs": [
    {
     "data": {
      "text/html": [
       "<div>\n",
       "<style scoped>\n",
       "    .dataframe tbody tr th:only-of-type {\n",
       "        vertical-align: middle;\n",
       "    }\n",
       "\n",
       "    .dataframe tbody tr th {\n",
       "        vertical-align: top;\n",
       "    }\n",
       "\n",
       "    .dataframe thead th {\n",
       "        text-align: right;\n",
       "    }\n",
       "</style>\n",
       "<table border=\"1\" class=\"dataframe\">\n",
       "  <thead>\n",
       "    <tr style=\"text-align: right;\">\n",
       "      <th>Gender</th>\n",
       "      <th>F</th>\n",
       "      <th>M</th>\n",
       "    </tr>\n",
       "    <tr>\n",
       "      <th>prod_cat</th>\n",
       "      <th></th>\n",
       "      <th></th>\n",
       "    </tr>\n",
       "  </thead>\n",
       "  <tbody>\n",
       "    <tr>\n",
       "      <th>Bags</th>\n",
       "      <td>2362</td>\n",
       "      <td>2346</td>\n",
       "    </tr>\n",
       "    <tr>\n",
       "      <th>Books</th>\n",
       "      <td>7070</td>\n",
       "      <td>7587</td>\n",
       "    </tr>\n",
       "    <tr>\n",
       "      <th>Clothing</th>\n",
       "      <td>3425</td>\n",
       "      <td>3748</td>\n",
       "    </tr>\n",
       "    <tr>\n",
       "      <th>Electronics</th>\n",
       "      <td>5832</td>\n",
       "      <td>6476</td>\n",
       "    </tr>\n",
       "    <tr>\n",
       "      <th>Footwear</th>\n",
       "      <td>3716</td>\n",
       "      <td>3555</td>\n",
       "    </tr>\n",
       "    <tr>\n",
       "      <th>Home and kitchen</th>\n",
       "      <td>4895</td>\n",
       "      <td>5041</td>\n",
       "    </tr>\n",
       "  </tbody>\n",
       "</table>\n",
       "</div>"
      ],
      "text/plain": [
       "Gender               F     M\n",
       "prod_cat                    \n",
       "Bags              2362  2346\n",
       "Books             7070  7587\n",
       "Clothing          3425  3748\n",
       "Electronics       5832  6476\n",
       "Footwear          3716  3555\n",
       "Home and kitchen  4895  5041"
      ]
     },
     "execution_count": 14,
     "metadata": {},
     "output_type": "execute_result"
    }
   ],
   "source": [
    "Customer_Final.pivot_table(index='prod_cat',columns='Gender',values='Qty',aggfunc='sum')\n",
    "#Electronics \n",
    "#male purchase more electronics then women"
   ]
  },
  {
   "cell_type": "markdown",
   "id": "ad117d2a",
   "metadata": {},
   "source": [
    "# Which City code has the maximum customers and what was the percentage of customers from that city?\n",
    "\n"
   ]
  },
  {
   "cell_type": "code",
   "execution_count": 102,
   "id": "d73eb6c9",
   "metadata": {},
   "outputs": [
    {
     "data": {
      "text/html": [
       "<div>\n",
       "<style scoped>\n",
       "    .dataframe tbody tr th:only-of-type {\n",
       "        vertical-align: middle;\n",
       "    }\n",
       "\n",
       "    .dataframe tbody tr th {\n",
       "        vertical-align: top;\n",
       "    }\n",
       "\n",
       "    .dataframe thead th {\n",
       "        text-align: right;\n",
       "    }\n",
       "</style>\n",
       "<table border=\"1\" class=\"dataframe\">\n",
       "  <thead>\n",
       "    <tr style=\"text-align: right;\">\n",
       "      <th></th>\n",
       "      <th>cust_id</th>\n",
       "      <th>percentage</th>\n",
       "    </tr>\n",
       "    <tr>\n",
       "      <th>city_code</th>\n",
       "      <th></th>\n",
       "      <th></th>\n",
       "    </tr>\n",
       "  </thead>\n",
       "  <tbody>\n",
       "    <tr>\n",
       "      <th>4.0</th>\n",
       "      <td>2422</td>\n",
       "      <td>10.509872</td>\n",
       "    </tr>\n",
       "  </tbody>\n",
       "</table>\n",
       "</div>"
      ],
      "text/plain": [
       "           cust_id  percentage\n",
       "city_code                     \n",
       "4.0           2422   10.509872"
      ]
     },
     "execution_count": 102,
     "metadata": {},
     "output_type": "execute_result"
    }
   ],
   "source": [
    "city_max_customer=Customer_Final.pivot_table(index='city_code',values='cust_id',aggfunc=len).sort_values(by='cust_id',ascending=False).head(1)\n",
    "total_customer=Customer_Final.pivot_table(index='city_code',values='cust_id',aggfunc=len).sort_values(by='cust_id',ascending=False).sum()\n",
    "city_max_customer['percentage']=(city_max_customer.iloc[0,0]/total_customer[0])*100\n",
    "city_max_customer\n",
    "\n",
    "#check how to find total in this"
   ]
  },
  {
   "cell_type": "markdown",
   "id": "db3f193d",
   "metadata": {},
   "source": [
    "# Which store type sells the maximum products by value and by quantity?"
   ]
  },
  {
   "cell_type": "code",
   "execution_count": 132,
   "id": "092a31e1",
   "metadata": {},
   "outputs": [
    {
     "data": {
      "text/html": [
       "<div>\n",
       "<style scoped>\n",
       "    .dataframe tbody tr th:only-of-type {\n",
       "        vertical-align: middle;\n",
       "    }\n",
       "\n",
       "    .dataframe tbody tr th {\n",
       "        vertical-align: top;\n",
       "    }\n",
       "\n",
       "    .dataframe thead th {\n",
       "        text-align: right;\n",
       "    }\n",
       "</style>\n",
       "<table border=\"1\" class=\"dataframe\">\n",
       "  <thead>\n",
       "    <tr style=\"text-align: right;\">\n",
       "      <th></th>\n",
       "      <th>Qty</th>\n",
       "      <th>Rate</th>\n",
       "    </tr>\n",
       "    <tr>\n",
       "      <th>Store_type</th>\n",
       "      <th></th>\n",
       "      <th></th>\n",
       "    </tr>\n",
       "  </thead>\n",
       "  <tbody>\n",
       "    <tr>\n",
       "      <th>e-Shop</th>\n",
       "      <td>22763</td>\n",
       "      <td>5941001</td>\n",
       "    </tr>\n",
       "  </tbody>\n",
       "</table>\n",
       "</div>"
      ],
      "text/plain": [
       "              Qty     Rate\n",
       "Store_type                \n",
       "e-Shop      22763  5941001"
      ]
     },
     "execution_count": 132,
     "metadata": {},
     "output_type": "execute_result"
    }
   ],
   "source": [
    "Customer_Final.pivot_table(index='Store_type',values=['Qty','Rate'],aggfunc=sum).sort_values(by=['Qty','Rate'],ascending=False).head(1)\n"
   ]
  },
  {
   "cell_type": "markdown",
   "id": "5bc110db",
   "metadata": {},
   "source": [
    "# What was the total amount earned from the \"Electronics\" and \"Clothing\" categories from \n",
    "#Flagship Stores?"
   ]
  },
  {
   "cell_type": "code",
   "execution_count": 131,
   "id": "d63ae54c",
   "metadata": {},
   "outputs": [
    {
     "data": {
      "text/plain": [
       "0    3409559.27\n",
       "dtype: float64"
      ]
     },
     "execution_count": 131,
     "metadata": {},
     "output_type": "execute_result"
    }
   ],
   "source": [
    "\n",
    "x=Customer_Final.pivot_table(values='total_amt',index='Store_type',columns='prod_cat',aggfunc=sum).reset_index()\n",
    "y=x[(x.Store_type =='Flagship store')]\n",
    "y['Electronics']+y['Clothing']"
   ]
  },
  {
   "cell_type": "markdown",
   "id": "7c98e12f",
   "metadata": {},
   "source": [
    "# What was the total amount earned from \"Male\" customers under the \"Electronics\" category?"
   ]
  },
  {
   "cell_type": "code",
   "execution_count": 133,
   "id": "fb2847e5",
   "metadata": {},
   "outputs": [],
   "source": [
    "male_cus=Customer_Final.pivot_table(values='total_amt',index='prod_cat',columns='Gender',aggfunc='sum')"
   ]
  },
  {
   "cell_type": "code",
   "execution_count": 134,
   "id": "5cf03c46",
   "metadata": {},
   "outputs": [
    {
     "data": {
      "text/plain": [
       "5703109.425"
      ]
     },
     "execution_count": 134,
     "metadata": {},
     "output_type": "execute_result"
    }
   ],
   "source": [
    "male_cus.loc['Electronics','M']"
   ]
  },
  {
   "cell_type": "markdown",
   "id": "bf078f5b",
   "metadata": {},
   "source": [
    "# How many customers have more than 10 unique transactions, after removing all transactions \n",
    "which have any negative amounts?\n"
   ]
  },
  {
   "cell_type": "code",
   "execution_count": 140,
   "id": "cbabe9d0",
   "metadata": {},
   "outputs": [],
   "source": [
    "Customer_Final['is_negative']=np.where(Customer_Final.total_amt>0,1,0)"
   ]
  },
  {
   "cell_type": "code",
   "execution_count": 141,
   "id": "d225271c",
   "metadata": {},
   "outputs": [],
   "source": [
    "trans_more10=Customer_Final.pivot_table(values='is_negative',index='cust_id',aggfunc=sum).sort_values(by='is_negative',ascending=False)"
   ]
  },
  {
   "cell_type": "code",
   "execution_count": 142,
   "id": "d3764f38",
   "metadata": {},
   "outputs": [
    {
     "data": {
      "text/html": [
       "<div>\n",
       "<style scoped>\n",
       "    .dataframe tbody tr th:only-of-type {\n",
       "        vertical-align: middle;\n",
       "    }\n",
       "\n",
       "    .dataframe tbody tr th {\n",
       "        vertical-align: top;\n",
       "    }\n",
       "\n",
       "    .dataframe thead th {\n",
       "        text-align: right;\n",
       "    }\n",
       "</style>\n",
       "<table border=\"1\" class=\"dataframe\">\n",
       "  <thead>\n",
       "    <tr style=\"text-align: right;\">\n",
       "      <th></th>\n",
       "      <th>is_negative</th>\n",
       "    </tr>\n",
       "    <tr>\n",
       "      <th>cust_id</th>\n",
       "      <th></th>\n",
       "    </tr>\n",
       "  </thead>\n",
       "  <tbody>\n",
       "    <tr>\n",
       "      <th>272741</th>\n",
       "      <td>11</td>\n",
       "    </tr>\n",
       "    <tr>\n",
       "      <th>273014</th>\n",
       "      <td>11</td>\n",
       "    </tr>\n",
       "    <tr>\n",
       "      <th>266794</th>\n",
       "      <td>11</td>\n",
       "    </tr>\n",
       "    <tr>\n",
       "      <th>274227</th>\n",
       "      <td>11</td>\n",
       "    </tr>\n",
       "    <tr>\n",
       "      <th>270803</th>\n",
       "      <td>11</td>\n",
       "    </tr>\n",
       "    <tr>\n",
       "      <th>...</th>\n",
       "      <td>...</td>\n",
       "    </tr>\n",
       "    <tr>\n",
       "      <th>267660</th>\n",
       "      <td>1</td>\n",
       "    </tr>\n",
       "    <tr>\n",
       "      <th>268491</th>\n",
       "      <td>1</td>\n",
       "    </tr>\n",
       "    <tr>\n",
       "      <th>267242</th>\n",
       "      <td>1</td>\n",
       "    </tr>\n",
       "    <tr>\n",
       "      <th>274651</th>\n",
       "      <td>1</td>\n",
       "    </tr>\n",
       "    <tr>\n",
       "      <th>273784</th>\n",
       "      <td>1</td>\n",
       "    </tr>\n",
       "  </tbody>\n",
       "</table>\n",
       "<p>5506 rows × 1 columns</p>\n",
       "</div>"
      ],
      "text/plain": [
       "         is_negative\n",
       "cust_id             \n",
       "272741            11\n",
       "273014            11\n",
       "266794            11\n",
       "274227            11\n",
       "270803            11\n",
       "...              ...\n",
       "267660             1\n",
       "268491             1\n",
       "267242             1\n",
       "274651             1\n",
       "273784             1\n",
       "\n",
       "[5506 rows x 1 columns]"
      ]
     },
     "execution_count": 142,
     "metadata": {},
     "output_type": "execute_result"
    }
   ],
   "source": [
    "trans_more10"
   ]
  },
  {
   "cell_type": "code",
   "execution_count": 143,
   "id": "8d421513",
   "metadata": {},
   "outputs": [
    {
     "data": {
      "text/plain": [
       "6"
      ]
     },
     "execution_count": 143,
     "metadata": {},
     "output_type": "execute_result"
    }
   ],
   "source": [
    "len(trans_more10.index[trans_more10.is_negative > 10])"
   ]
  },
  {
   "cell_type": "markdown",
   "id": "fa1195e7",
   "metadata": {},
   "source": [
    "# For all customers aged between 25 - 35, find out:\n",
    " a. What was the total amount spent for “Electronics” and “Books” product categories?\n"
   ]
  },
  {
   "cell_type": "code",
   "execution_count": 157,
   "id": "fb4d0908",
   "metadata": {},
   "outputs": [],
   "source": [
    "from datetime import date as dt\n",
    "Customer_Final['Age']=dt.today().year-Customer_Final.DOB.dt.year\n"
   ]
  },
  {
   "cell_type": "code",
   "execution_count": 182,
   "id": "35908801",
   "metadata": {},
   "outputs": [
    {
     "data": {
      "text/plain": [
       "6058003.380000001"
      ]
     },
     "execution_count": 182,
     "metadata": {},
     "output_type": "execute_result"
    }
   ],
   "source": [
    "spent_bt=Customer_Final.pivot_table(values='total_amt',index='Age',columns=['prod_cat'],aggfunc=sum)\n",
    "spent_bt=spent_bt.reset_index()\n",
    "y=spent_bt[(spent_bt['Age'] >= 25) & (spent_bt['Age']<=35)]\n",
    "y['Electronics'].sum()+y['Books'].sum()\n"
   ]
  },
  {
   "cell_type": "markdown",
   "id": "1f3cd817",
   "metadata": {},
   "source": [
    "#  What was the total amount spent by these customers between 1st Jan, 2014 to 1st Mar, 2014?\n"
   ]
  },
  {
   "cell_type": "code",
   "execution_count": 194,
   "id": "ed85b8ea",
   "metadata": {},
   "outputs": [],
   "source": [
    "amt_spent=Customer_Final.loc[( ((Customer_Final['tran_date'] >= '01-01-2014') & (Customer_Final['tran_date'] <= '03-01-2014'))& ((Customer_Final.Age >= 25) & (Customer_Final.Age <=35))) ,['total_amt']]"
   ]
  },
  {
   "cell_type": "code",
   "execution_count": 195,
   "id": "4c34c18c",
   "metadata": {},
   "outputs": [
    {
     "data": {
      "text/plain": [
       "total_amt    653925.74\n",
       "dtype: float64"
      ]
     },
     "execution_count": 195,
     "metadata": {},
     "output_type": "execute_result"
    }
   ],
   "source": [
    "amt_spent.sum()"
   ]
  },
  {
   "cell_type": "code",
   "execution_count": null,
   "id": "b21dd3b4",
   "metadata": {},
   "outputs": [],
   "source": []
  }
 ],
 "metadata": {
  "kernelspec": {
   "display_name": "Python 3 (ipykernel)",
   "language": "python",
   "name": "python3"
  },
  "language_info": {
   "codemirror_mode": {
    "name": "ipython",
    "version": 3
   },
   "file_extension": ".py",
   "mimetype": "text/x-python",
   "name": "python",
   "nbconvert_exporter": "python",
   "pygments_lexer": "ipython3",
   "version": "3.9.13"
  }
 },
 "nbformat": 4,
 "nbformat_minor": 5
}
